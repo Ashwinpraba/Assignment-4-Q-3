{
 "cells": [
  {
   "cell_type": "markdown",
   "id": "e1e398a7",
   "metadata": {},
   "source": [
    "# Write a Python program to square the elements of a list using map() function."
   ]
  },
  {
   "cell_type": "code",
   "execution_count": 1,
   "id": "1475b21e",
   "metadata": {},
   "outputs": [
    {
     "name": "stdout",
     "output_type": "stream",
     "text": [
      "input--->Enter your list:1 2 4 6 8 10\n",
      "output--->square_of_list: [1, 4, 16, 36, 64, 100]\n"
     ]
    }
   ],
   "source": [
    "input_list = list(map(int,input(\"input--->Enter your list:\" ).split()))\n",
    "def square(x):\n",
    "    return x*x\n",
    "square_of_list = map(square, input_list)\n",
    "print(\"output--->square_of_list:\",list(square_of_list))"
   ]
  },
  {
   "cell_type": "code",
   "execution_count": null,
   "id": "fef2b528",
   "metadata": {},
   "outputs": [],
   "source": [
    "input_list = list(map(int,input(\"input--->Enter your list:\" ).split()))\n",
    "def square(x):\n",
    "    return x*x\n",
    "square_of_list = map(square, input_list)\n",
    "print(\"output--->square_of_list:\",list(square_of_list))"
   ]
  }
 ],
 "metadata": {
  "kernelspec": {
   "display_name": "Python 3 (ipykernel)",
   "language": "python",
   "name": "python3"
  },
  "language_info": {
   "codemirror_mode": {
    "name": "ipython",
    "version": 3
   },
   "file_extension": ".py",
   "mimetype": "text/x-python",
   "name": "python",
   "nbconvert_exporter": "python",
   "pygments_lexer": "ipython3",
   "version": "3.11.3"
  }
 },
 "nbformat": 4,
 "nbformat_minor": 5
}
